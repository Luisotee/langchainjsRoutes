{
 "cells": [
  {
   "cell_type": "raw",
   "id": "38831021-76ed-48b3-9f62-d1241a68b6ad",
   "metadata": {},
   "source": [
    "---\n",
    "sidebar_position: 3\n",
    "---"
   ]
  },
  {
   "cell_type": "markdown",
   "id": "a745f98b-c495-44f6-a882-757c38992d76",
   "metadata": {},
   "source": [
    "# How to use output parsers to parse an LLM response into structured format\n",
    "\n",
    "Language models output text. But there are times where you want to get more structured information than just text back. While some model providers support [built-in ways to return structured output](/docs/how_to/structured_output), not all do.\n",
    "\n",
    "Output parsers are classes that help structure language model responses. There are two main methods an output parser must implement:\n",
    "\n",
    "- \"Get format instructions\": A method which returns a string containing instructions for how the output of a language model should be formatted.\n",
    "- \"Parse\": A method which takes in a string (assumed to be the response from a language model) and parses it into some structure.\n",
    "\n",
    "And then one optional one:\n",
    "\n",
    "- \"Parse with prompt\": A method which takes in a string (assumed to be the response from a language model) and a prompt (assumed to be the prompt that generated such a response) and parses it into some structure. The prompt is largely provided in the event the OutputParser wants to retry or fix the output in some way, and needs information from the prompt to do so.\n",
    "\n",
    "## Get started\n",
    "\n",
    "### LCEL\n"
   ]
  },
  {
   "cell_type": "markdown",
   "id": "b62367da",
   "metadata": {},
   "source": [
    "```{=mdx}\n",
    "import ChatModelTabs from \"@theme/ChatModelTabs\";\n",
    "\n",
    "<ChatModelTabs />\n",
    "```"
   ]
  },
  {
   "cell_type": "code",
   "execution_count": 1,
   "id": "1594b2bf-2a6f-47bb-9a81-38930f8e606b",
   "metadata": {},
   "outputs": [
    {
     "name": "stdout",
     "output_type": "stream",
     "text": [
      "You must format your output as a JSON value that adheres to a given \"JSON Schema\" instance.\n",
      "\n",
      "\"JSON Schema\" is a declarative language that allows you to annotate and validate JSON documents.\n",
      "\n",
      "For example, the example \"JSON Schema\" instance {{\"properties\": {{\"foo\": {{\"description\": \"a list of test words\", \"type\": \"array\", \"items\": {{\"type\": \"string\"}}}}}}, \"required\": [\"foo\"]}}}}\n",
      "would match an object with one required property, \"foo\". The \"type\" property specifies \"foo\" must be an \"array\", and the \"description\" property semantically describes it as \"a list of test words\". The items within \"foo\" must be strings.\n",
      "Thus, the object {{\"foo\": [\"bar\", \"baz\"]}} is a well-formatted instance of this example \"JSON Schema\". The object {{\"properties\": {{\"foo\": [\"bar\", \"baz\"]}}}} is not well-formatted.\n",
      "\n",
      "Your output will be parsed and type-checked according to the provided schema instance, so make sure all fields in your output match the schema exactly and there are no trailing commas!\n",
      "\n",
      "Here is the JSON Schema instance your output must adhere to. Include the enclosing markdown codeblock:\n",
      "```json\n",
      "{\"type\":\"object\",\"properties\":{\"answer\":{\"type\":\"string\",\"description\":\"answer to the user's question\"},\"source\":{\"type\":\"string\",\"description\":\"source used to answer the user's question, should be a website.\"}},\"required\":[\"answer\",\"source\"],\"additionalProperties\":false,\"$schema\":\"http://json-schema.org/draft-07/schema#\"}\n",
      "```\n",
      "\n"
     ]
    }
   ],
   "source": [
    "import { RunnableSequence } from \"@langchain/core/runnables\";\n",
    "import { StructuredOutputParser } from \"@langchain/core/output_parsers\";\n",
    "import { PromptTemplate } from \"@langchain/core/prompts\";\n",
    "\n",
    "const parser = StructuredOutputParser.fromNamesAndDescriptions({\n",
    "  answer: \"answer to the user's question\",\n",
    "  source: \"source used to answer the user's question, should be a website.\",\n",
    "});\n",
    "\n",
    "const chain = RunnableSequence.from([\n",
    "  PromptTemplate.fromTemplate(\n",
    "    \"Answer the users question as best as possible.\\n{format_instructions}\\n{question}\"\n",
    "  ),\n",
    "  model,\n",
    "  parser,\n",
    "]);\n",
    "\n",
    "console.log(parser.getFormatInstructions());\n"
   ]
  },
  {
   "cell_type": "code",
   "execution_count": 2,
   "id": "301471a0",
   "metadata": {},
   "outputs": [
    {
     "name": "stdout",
     "output_type": "stream",
     "text": [
      "{ answer: \"Paris\", source: \"https://en.wikipedia.org/wiki/Paris\" }\n"
     ]
    }
   ],
   "source": [
    "const response = await chain.invoke({\n",
    "  question: \"What is the capital of France?\",\n",
    "  format_instructions: parser.getFormatInstructions(),\n",
    "});\n",
    "\n",
    "console.log(response);"
   ]
  },
  {
   "cell_type": "markdown",
   "id": "75976cd6-78e2-458b-821f-3ddf3683466b",
   "metadata": {},
   "source": [
    "Output parsers implement the [Runnable interface](/docs/expression_language/interface), the basic building block of the [LangChain Expression Language (LCEL)](/docs/expression_language/). This means they support `invoke`, `stream`, `batch`, `streamLog` calls.\n",
    "\n",
    "Output parsers accept a string or `BaseMessage` as input and can return an arbitrary type."
   ]
  },
  {
   "cell_type": "markdown",
   "id": "d88590a0-f36b-4ad5-8a56-d300971a6440",
   "metadata": {},
   "source": [
    "While all parsers support the streaming interface, only certain parsers can stream through partially parsed objects, since this is highly dependent on the output type. Parsers which cannot construct partial objects will simply yield the fully parsed output.\n",
    "\n",
    "The `JsonOutputParser` for example can stream through partial outputs:"
   ]
  },
  {
   "cell_type": "code",
   "execution_count": 4,
   "id": "fac8f714",
   "metadata": {},
   "outputs": [
    {
     "name": "stdout",
     "output_type": "stream",
     "text": [
      "{\n",
      "  answer: \"The capital of France is Paris.\",\n",
      "  source: \"https://en.wikipedia.org/wiki/Paris\"\n",
      "}\n"
     ]
    }
   ],
   "source": [
    "const stream = await chain.stream({\n",
    "  question: \"What is the capital of France?\",\n",
    "  format_instructions: parser.getFormatInstructions(),\n",
    "});\n",
    "\n",
    "for await (const s of stream) {\n",
    "  console.log(s)\n",
    "}"
   ]
  },
  {
   "cell_type": "code",
   "execution_count": 7,
   "id": "d7ecfe4d-dae8-4452-98ea-e48bdc498788",
   "metadata": {},
   "outputs": [],
   "source": [
    "import { JsonOutputParser } from \"@langchain/core/output_parsers\";\n",
    "\n",
    "const jsonPrompt = PromptTemplate.fromTemplate(\n",
    "    \"Return a JSON object with an `answer` key that answers the following question: {question}\"\n",
    ")\n",
    "const jsonParser = new JsonOutputParser()\n",
    "const jsonChain = jsonPrompt.pipe(model).pipe(jsonParser)"
   ]
  },
  {
   "cell_type": "code",
   "execution_count": 8,
   "id": "cc2b999e-47aa-41f4-ba6a-13b20a204576",
   "metadata": {},
   "outputs": [
    {
     "name": "stdout",
     "output_type": "stream",
     "text": [
      "{}\n",
      "{ answer: \"\" }\n",
      "{ answer: \"The\" }\n",
      "{ answer: \"The microscope\" }\n",
      "{ answer: \"The microscope was\" }\n",
      "{ answer: \"The microscope was invented\" }\n",
      "{ answer: \"The microscope was invented by\" }\n",
      "{ answer: \"The microscope was invented by Zach\" }\n",
      "{ answer: \"The microscope was invented by Zacharias\" }\n",
      "{ answer: \"The microscope was invented by Zacharias J\" }\n",
      "{ answer: \"The microscope was invented by Zacharias Jans\" }\n",
      "{ answer: \"The microscope was invented by Zacharias Janssen\" }\n",
      "{ answer: \"The microscope was invented by Zacharias Janssen and\" }\n",
      "{ answer: \"The microscope was invented by Zacharias Janssen and his\" }\n",
      "{\n",
      "  answer: \"The microscope was invented by Zacharias Janssen and his father\"\n",
      "}\n",
      "{\n",
      "  answer: \"The microscope was invented by Zacharias Janssen and his father Hans\"\n",
      "}\n",
      "{\n",
      "  answer: \"The microscope was invented by Zacharias Janssen and his father Hans in\"\n",
      "}\n",
      "{\n",
      "  answer: \"The microscope was invented by Zacharias Janssen and his father Hans in the\"\n",
      "}\n",
      "{\n",
      "  answer: \"The microscope was invented by Zacharias Janssen and his father Hans in the late\"\n",
      "}\n",
      "{\n",
      "  answer: \"The microscope was invented by Zacharias Janssen and his father Hans in the late 16\"\n",
      "}\n",
      "{\n",
      "  answer: \"The microscope was invented by Zacharias Janssen and his father Hans in the late 16th\"\n",
      "}\n",
      "{\n",
      "  answer: \"The microscope was invented by Zacharias Janssen and his father Hans in the late 16th century\"\n",
      "}\n",
      "{\n",
      "  answer: \"The microscope was invented by Zacharias Janssen and his father Hans in the late 16th century.\"\n",
      "}\n"
     ]
    }
   ],
   "source": [
    "for await (const s of await jsonChain.stream({\n",
    "  question: \"Who invented the microscope?\",\n",
    "})) {\n",
    "  console.log(s)\n",
    "}"
   ]
  }
 ],
 "metadata": {
  "kernelspec": {
   "display_name": "Deno",
   "language": "typescript",
   "name": "deno"
  },
  "language_info": {
   "file_extension": ".ts",
   "mimetype": "text/x.typescript",
   "name": "typescript",
   "nb_converter": "script",
   "pygments_lexer": "typescript",
   "version": "5.3.3"
  }
 },
 "nbformat": 4,
 "nbformat_minor": 5
}
