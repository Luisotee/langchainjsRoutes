{
 "cells": [
  {
   "cell_type": "markdown",
   "id": "4111c9d4",
   "metadata": {},
   "source": [
    "# How to convert tools to OpenAI Functions\n",
    "\n",
    "This notebook goes over how to use LangChain tools as OpenAI functions.\n",
    "\n",
    "```{=mdx}\n",
    "import Npm2Yarn from \"@theme/Npm2Yarn\";\n",
    "\n",
    "<Npm2Yarn>\n",
    "  @langchain/community @langchain/openai\n",
    "</Npm2Yarn>\n",
    "```"
   ]
  },
  {
   "cell_type": "code",
   "execution_count": 16,
   "id": "d65d8a60",
   "metadata": {},
   "outputs": [],
   "source": [
    "import { Calculator } from \"@langchain/community/tools/calculator\";\n",
    "import { HumanMessage } from \"@langchain/core/messages\";\n",
    "import { convertToOpenAIFunction } from \"@langchain/core/utils/function_calling\";\n",
    "import { ChatOpenAI } from \"@langchain/openai\";"
   ]
  },
  {
   "cell_type": "code",
   "execution_count": 17,
   "id": "9b69318a",
   "metadata": {},
   "outputs": [],
   "source": [
    "const model = new ChatOpenAI({\n",
    "  model: \"gpt-3.5-turbo\"\n",
    "});"
   ]
  },
  {
   "cell_type": "code",
   "execution_count": 18,
   "id": "3b3dc766",
   "metadata": {},
   "outputs": [],
   "source": [
    "const tools = [new Calculator()]\n",
    "const functions = [convertToOpenAIFunction(tools[0])]"
   ]
  },
  {
   "cell_type": "code",
   "execution_count": 19,
   "id": "d38c4a22-2e9e-4d15-a9e1-bf8103c6303b",
   "metadata": {},
   "outputs": [
    {
     "data": {
      "text/plain": [
       "{\n",
       "  name: \u001b[32m\"calculator\"\u001b[39m,\n",
       "  description: \u001b[32m\"Useful for getting the result of a math expression. The input to this tool should be a valid mathema\"\u001b[39m... 63 more characters,\n",
       "  parameters: {\n",
       "    type: \u001b[32m\"object\"\u001b[39m,\n",
       "    properties: { input: { type: \u001b[32m\"string\"\u001b[39m } },\n",
       "    additionalProperties: \u001b[33mfalse\u001b[39m,\n",
       "    \u001b[32m\"$schema\"\u001b[39m: \u001b[32m\"http://json-schema.org/draft-07/schema#\"\u001b[39m\n",
       "  }\n",
       "}"
      ]
     },
     "execution_count": 19,
     "metadata": {},
     "output_type": "execute_result"
    }
   ],
   "source": [
    "functions[0]"
   ]
  },
  {
   "cell_type": "code",
   "execution_count": 20,
   "id": "e40a3f4d",
   "metadata": {},
   "outputs": [],
   "source": [
    "const modelWithTools= model.bind({\n",
    "  functions,\n",
    "})"
   ]
  },
  {
   "cell_type": "code",
   "execution_count": 21,
   "id": "230a7939",
   "metadata": {},
   "outputs": [],
   "source": [
    "const message = await modelWithTools.invoke(\n",
    "    [new HumanMessage(\"use a calculator to add 2 and 3\")]\n",
    ")"
   ]
  },
  {
   "cell_type": "code",
   "execution_count": 22,
   "id": "c118c940",
   "metadata": {},
   "outputs": [
    {
     "data": {
      "text/plain": [
       "AIMessage {\n",
       "  lc_serializable: \u001b[33mtrue\u001b[39m,\n",
       "  lc_kwargs: {\n",
       "    content: \u001b[32m\"\"\u001b[39m,\n",
       "    tool_calls: [],\n",
       "    invalid_tool_calls: [],\n",
       "    additional_kwargs: {\n",
       "      function_call: { name: \u001b[32m\"calculator\"\u001b[39m, arguments: \u001b[32m'{\"input\":\"2 + 3\"}'\u001b[39m },\n",
       "      tool_calls: \u001b[90mundefined\u001b[39m\n",
       "    },\n",
       "    response_metadata: {}\n",
       "  },\n",
       "  lc_namespace: [ \u001b[32m\"langchain_core\"\u001b[39m, \u001b[32m\"messages\"\u001b[39m ],\n",
       "  content: \u001b[32m\"\"\u001b[39m,\n",
       "  name: \u001b[90mundefined\u001b[39m,\n",
       "  additional_kwargs: {\n",
       "    function_call: { name: \u001b[32m\"calculator\"\u001b[39m, arguments: \u001b[32m'{\"input\":\"2 + 3\"}'\u001b[39m },\n",
       "    tool_calls: \u001b[90mundefined\u001b[39m\n",
       "  },\n",
       "  response_metadata: {\n",
       "    tokenUsage: { completionTokens: \u001b[33m17\u001b[39m, promptTokens: \u001b[33m77\u001b[39m, totalTokens: \u001b[33m94\u001b[39m },\n",
       "    finish_reason: \u001b[32m\"function_call\"\u001b[39m\n",
       "  },\n",
       "  tool_calls: [],\n",
       "  invalid_tool_calls: []\n",
       "}"
      ]
     },
     "execution_count": 22,
     "metadata": {},
     "output_type": "execute_result"
    }
   ],
   "source": [
    "message"
   ]
  },
  {
   "cell_type": "code",
   "execution_count": 23,
   "id": "d618e3d8",
   "metadata": {},
   "outputs": [
    {
     "data": {
      "text/plain": [
       "{ name: \u001b[32m\"calculator\"\u001b[39m, arguments: \u001b[32m'{\"input\":\"2 + 3\"}'\u001b[39m }"
      ]
     },
     "execution_count": 23,
     "metadata": {},
     "output_type": "execute_result"
    }
   ],
   "source": [
    "message.additional_kwargs[\"function_call\"]"
   ]
  },
  {
   "cell_type": "markdown",
   "id": "000ec6ff-ca67-4206-ba56-cc2a91b85ce6",
   "metadata": {},
   "source": [
    "Or we can use the update OpenAI API that uses `tools` and `tool_choice` instead of `functions` and `function_call` by using `ChatOpenAI.bind({ tools })`:"
   ]
  },
  {
   "cell_type": "code",
   "execution_count": 24,
   "id": "1a333e4e-df55-4e15-9d2e-4fd142d969f3",
   "metadata": {},
   "outputs": [
    {
     "data": {
      "text/plain": [
       "AIMessage {\n",
       "  lc_serializable: \u001b[33mtrue\u001b[39m,\n",
       "  lc_kwargs: {\n",
       "    content: \u001b[32m\"\"\u001b[39m,\n",
       "    tool_calls: [\n",
       "      {\n",
       "        name: \u001b[32m\"calculator\"\u001b[39m,\n",
       "        args: { input: \u001b[32m\"2 + 3\"\u001b[39m },\n",
       "        id: \u001b[32m\"call_R2WXRRIbgh2qn1XBBu8P91DH\"\u001b[39m\n",
       "      }\n",
       "    ],\n",
       "    invalid_tool_calls: [],\n",
       "    additional_kwargs: {\n",
       "      function_call: \u001b[90mundefined\u001b[39m,\n",
       "      tool_calls: [\n",
       "        {\n",
       "          id: \u001b[32m\"call_R2WXRRIbgh2qn1XBBu8P91DH\"\u001b[39m,\n",
       "          type: \u001b[32m\"function\"\u001b[39m,\n",
       "          function: \u001b[36m[Object]\u001b[39m\n",
       "        }\n",
       "      ]\n",
       "    },\n",
       "    response_metadata: {}\n",
       "  },\n",
       "  lc_namespace: [ \u001b[32m\"langchain_core\"\u001b[39m, \u001b[32m\"messages\"\u001b[39m ],\n",
       "  content: \u001b[32m\"\"\u001b[39m,\n",
       "  name: \u001b[90mundefined\u001b[39m,\n",
       "  additional_kwargs: {\n",
       "    function_call: \u001b[90mundefined\u001b[39m,\n",
       "    tool_calls: [\n",
       "      {\n",
       "        id: \u001b[32m\"call_R2WXRRIbgh2qn1XBBu8P91DH\"\u001b[39m,\n",
       "        type: \u001b[32m\"function\"\u001b[39m,\n",
       "        function: { name: \u001b[32m\"calculator\"\u001b[39m, arguments: \u001b[32m'{\"input\":\"2 + 3\"}'\u001b[39m }\n",
       "      }\n",
       "    ]\n",
       "  },\n",
       "  response_metadata: {\n",
       "    tokenUsage: { completionTokens: \u001b[33m17\u001b[39m, promptTokens: \u001b[33m77\u001b[39m, totalTokens: \u001b[33m94\u001b[39m },\n",
       "    finish_reason: \u001b[32m\"tool_calls\"\u001b[39m\n",
       "  },\n",
       "  tool_calls: [\n",
       "    {\n",
       "      name: \u001b[32m\"calculator\"\u001b[39m,\n",
       "      args: { input: \u001b[32m\"2 + 3\"\u001b[39m },\n",
       "      id: \u001b[32m\"call_R2WXRRIbgh2qn1XBBu8P91DH\"\u001b[39m\n",
       "    }\n",
       "  ],\n",
       "  invalid_tool_calls: []\n",
       "}"
      ]
     },
     "execution_count": 24,
     "metadata": {},
     "output_type": "execute_result"
    }
   ],
   "source": [
    "const modelWithTools = model.bind({\n",
    "  tools\n",
    "})\n",
    "await modelWithTools.invoke([new HumanMessage(\"use a calculator to add 2 and 3\")])"
   ]
  }
 ],
 "metadata": {
  "kernelspec": {
   "display_name": "Deno",
   "language": "typescript",
   "name": "deno"
  },
  "language_info": {
   "file_extension": ".ts",
   "mimetype": "text/x.typescript",
   "name": "typescript",
   "nb_converter": "script",
   "pygments_lexer": "typescript",
   "version": "5.3.3"
  }
 },
 "nbformat": 4,
 "nbformat_minor": 5
}
